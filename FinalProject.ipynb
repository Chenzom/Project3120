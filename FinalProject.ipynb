{
 "cells": [
  {
   "cell_type": "code",
   "execution_count": 87,
   "id": "09e60cb9-5e20-443c-90ae-79ec5fe67ff7",
   "metadata": {},
   "outputs": [
    {
     "data": {
      "text/html": [
       "<div>\n",
       "<style scoped>\n",
       "    .dataframe tbody tr th:only-of-type {\n",
       "        vertical-align: middle;\n",
       "    }\n",
       "\n",
       "    .dataframe tbody tr th {\n",
       "        vertical-align: top;\n",
       "    }\n",
       "\n",
       "    .dataframe thead th {\n",
       "        text-align: right;\n",
       "    }\n",
       "</style>\n",
       "<table border=\"1\" class=\"dataframe\">\n",
       "  <thead>\n",
       "    <tr style=\"text-align: right;\">\n",
       "      <th></th>\n",
       "      <th>Type</th>\n",
       "      <th>Component</th>\n",
       "      <th>Date</th>\n",
       "      <th>Value</th>\n",
       "      <th>Year</th>\n",
       "    </tr>\n",
       "  </thead>\n",
       "  <tbody>\n",
       "    <tr>\n",
       "      <th>0</th>\n",
       "      <td>Income</td>\n",
       "      <td>Salary</td>\n",
       "      <td>2018-01-01</td>\n",
       "      <td>30000</td>\n",
       "      <td>2018</td>\n",
       "    </tr>\n",
       "    <tr>\n",
       "      <th>1</th>\n",
       "      <td>Income</td>\n",
       "      <td>Salary</td>\n",
       "      <td>2018-02-01</td>\n",
       "      <td>30000</td>\n",
       "      <td>2018</td>\n",
       "    </tr>\n",
       "    <tr>\n",
       "      <th>2</th>\n",
       "      <td>Income</td>\n",
       "      <td>Salary</td>\n",
       "      <td>2018-03-01</td>\n",
       "      <td>30000</td>\n",
       "      <td>2018</td>\n",
       "    </tr>\n",
       "    <tr>\n",
       "      <th>3</th>\n",
       "      <td>Income</td>\n",
       "      <td>Salary</td>\n",
       "      <td>2018-04-01</td>\n",
       "      <td>30000</td>\n",
       "      <td>2018</td>\n",
       "    </tr>\n",
       "    <tr>\n",
       "      <th>4</th>\n",
       "      <td>Income</td>\n",
       "      <td>Salary</td>\n",
       "      <td>2018-05-01</td>\n",
       "      <td>30000</td>\n",
       "      <td>2018</td>\n",
       "    </tr>\n",
       "    <tr>\n",
       "      <th>...</th>\n",
       "      <td>...</td>\n",
       "      <td>...</td>\n",
       "      <td>...</td>\n",
       "      <td>...</td>\n",
       "      <td>...</td>\n",
       "    </tr>\n",
       "    <tr>\n",
       "      <th>439</th>\n",
       "      <td>Expense</td>\n",
       "      <td>Shopping</td>\n",
       "      <td>2020-09-01</td>\n",
       "      <td>2000</td>\n",
       "      <td>2020</td>\n",
       "    </tr>\n",
       "    <tr>\n",
       "      <th>440</th>\n",
       "      <td>Expense</td>\n",
       "      <td>Shopping</td>\n",
       "      <td>2020-10-01</td>\n",
       "      <td>2000</td>\n",
       "      <td>2020</td>\n",
       "    </tr>\n",
       "    <tr>\n",
       "      <th>441</th>\n",
       "      <td>Expense</td>\n",
       "      <td>Shopping</td>\n",
       "      <td>2020-11-01</td>\n",
       "      <td>2000</td>\n",
       "      <td>2020</td>\n",
       "    </tr>\n",
       "    <tr>\n",
       "      <th>442</th>\n",
       "      <td>Expense</td>\n",
       "      <td>Shopping</td>\n",
       "      <td>2020-12-01</td>\n",
       "      <td>3000</td>\n",
       "      <td>2020</td>\n",
       "    </tr>\n",
       "    <tr>\n",
       "      <th>443</th>\n",
       "      <td>Expense</td>\n",
       "      <td>Shopping</td>\n",
       "      <td>2021-01-01</td>\n",
       "      <td>3000</td>\n",
       "      <td>2021</td>\n",
       "    </tr>\n",
       "  </tbody>\n",
       "</table>\n",
       "<p>444 rows × 5 columns</p>\n",
       "</div>"
      ],
      "text/plain": [
       "        Type Component       Date  Value  Year\n",
       "0     Income    Salary 2018-01-01  30000  2018\n",
       "1     Income    Salary 2018-02-01  30000  2018\n",
       "2     Income    Salary 2018-03-01  30000  2018\n",
       "3     Income    Salary 2018-04-01  30000  2018\n",
       "4     Income    Salary 2018-05-01  30000  2018\n",
       "..       ...       ...        ...    ...   ...\n",
       "439  Expense  Shopping 2020-09-01   2000  2020\n",
       "440  Expense  Shopping 2020-10-01   2000  2020\n",
       "441  Expense  Shopping 2020-11-01   2000  2020\n",
       "442  Expense  Shopping 2020-12-01   3000  2020\n",
       "443  Expense  Shopping 2021-01-01   3000  2021\n",
       "\n",
       "[444 rows x 5 columns]"
      ]
     },
     "execution_count": 87,
     "metadata": {},
     "output_type": "execute_result"
    }
   ],
   "source": [
    "import pandas as pd\n",
    "import numpy as np\n",
    "import seaborn as sns\n",
    "import matplotlib.pyplot as plt\n",
    "from datetime import datetime\n",
    "\n",
    "\n",
    "df = pd.read_excel('/Users/anu/Desktop/My_Personal_Finance.xlsx')\n",
    "df"
   ]
  },
  {
   "cell_type": "code",
   "execution_count": 88,
   "id": "16fa5ee9-0b14-41b4-961b-64a0cd5711c5",
   "metadata": {},
   "outputs": [
    {
     "name": "stderr",
     "output_type": "stream",
     "text": [
      "[*********************100%***********************]  1 of 1 completed\n",
      "[*********************100%***********************]  1 of 1 completed\n",
      "[*********************100%***********************]  1 of 1 completed\n",
      "[*********************100%***********************]  1 of 1 completed\n",
      "[*********************100%***********************]  1 of 1 completed"
     ]
    },
    {
     "name": "stdout",
     "output_type": "stream",
     "text": [
      "                           MCD Adj Close MCD  MCD Close MCD  MCD High MCD  \\\n",
      "Datetime                                                                    \n",
      "2024-11-19 14:30:00+00:00         288.970001     288.970001    291.149994   \n",
      "2024-11-19 15:30:00+00:00         291.165009     291.165009    291.239990   \n",
      "2024-11-19 16:30:00+00:00         291.274994     291.274994    291.579987   \n",
      "2024-11-19 17:30:00+00:00         291.429993     291.429993    291.739990   \n",
      "2024-11-19 18:30:00+00:00         291.170013     291.170013    292.071991   \n",
      "\n",
      "                           MCD Low MCD  MCD Open MCD  MCD Volume MCD  \\\n",
      "Datetime                                                               \n",
      "2024-11-19 14:30:00+00:00   287.600006    290.000000          457490   \n",
      "2024-11-19 15:30:00+00:00   288.839996    288.839996          203549   \n",
      "2024-11-19 16:30:00+00:00   290.700012    291.209991          202850   \n",
      "2024-11-19 17:30:00+00:00   291.040009    291.220001          139877   \n",
      "2024-11-19 18:30:00+00:00   291.089996    291.429993          169228   \n",
      "\n",
      "                           AAPL Adj Close AAPL  AAPL Close AAPL  \\\n",
      "Datetime                                                          \n",
      "2024-11-19 14:30:00+00:00           228.850006       228.850006   \n",
      "2024-11-19 15:30:00+00:00           229.309998       229.309998   \n",
      "2024-11-19 16:30:00+00:00           229.854996       229.854996   \n",
      "2024-11-19 17:30:00+00:00           229.554993       229.554993   \n",
      "2024-11-19 18:30:00+00:00           229.389999       229.389999   \n",
      "\n",
      "                           AAPL High AAPL  AAPL Low AAPL  ...  MSFT High MSFT  \\\n",
      "Datetime                                                  ...                   \n",
      "2024-11-19 14:30:00+00:00      228.865005     227.119995  ...      414.000000   \n",
      "2024-11-19 15:30:00+00:00      229.539993     228.679993  ...      413.959991   \n",
      "2024-11-19 16:30:00+00:00      229.860001     229.190002  ...      415.390015   \n",
      "2024-11-19 17:30:00+00:00      230.160004     229.250000  ...      416.720001   \n",
      "2024-11-19 18:30:00+00:00      229.990005     229.354996  ...      417.940002   \n",
      "\n",
      "                           MSFT Low MSFT  MSFT Open MSFT  MSFT Volume MSFT  \\\n",
      "Datetime                                                                     \n",
      "2024-11-19 14:30:00+00:00     411.549988      413.647491           3165687   \n",
      "2024-11-19 15:30:00+00:00     412.679993      413.089996           1548847   \n",
      "2024-11-19 16:30:00+00:00     413.815002      413.940002           2692594   \n",
      "2024-11-19 17:30:00+00:00     415.059998      415.149994           1137954   \n",
      "2024-11-19 18:30:00+00:00     416.470001      416.515015           1134070   \n",
      "\n",
      "                           AMZN Adj Close AMZN  AMZN Close AMZN  \\\n",
      "Datetime                                                          \n",
      "2024-11-19 14:30:00+00:00           201.619995       201.619995   \n",
      "2024-11-19 15:30:00+00:00           203.880005       203.880005   \n",
      "2024-11-19 16:30:00+00:00           203.830002       203.830002   \n",
      "2024-11-19 17:30:00+00:00           204.229996       204.229996   \n",
      "2024-11-19 18:30:00+00:00           204.005005       204.005005   \n",
      "\n",
      "                           AMZN High AMZN  AMZN Low AMZN  AMZN Open AMZN  \\\n",
      "Datetime                                                                   \n",
      "2024-11-19 14:30:00+00:00      201.630005     198.800003      199.395996   \n",
      "2024-11-19 15:30:00+00:00      203.929993     201.350006      201.610001   \n",
      "2024-11-19 16:30:00+00:00      204.559998     203.160004      203.869995   \n",
      "2024-11-19 17:30:00+00:00      204.619995     203.760101      203.820007   \n",
      "2024-11-19 18:30:00+00:00      205.300003     204.000000      204.220001   \n",
      "\n",
      "                           AMZN Volume AMZN  \n",
      "Datetime                                     \n",
      "2024-11-19 14:30:00+00:00           6740087  \n",
      "2024-11-19 15:30:00+00:00           3581626  \n",
      "2024-11-19 16:30:00+00:00           3597986  \n",
      "2024-11-19 17:30:00+00:00           2022103  \n",
      "2024-11-19 18:30:00+00:00           2975781  \n",
      "\n",
      "[5 rows x 30 columns]\n"
     ]
    },
    {
     "name": "stderr",
     "output_type": "stream",
     "text": [
      "\n"
     ]
    }
   ],
   "source": [
    "# Using y finance library to get the stock data\n",
    "import yfinance as yf \n",
    "\n",
    "# List of stock symbols\n",
    "stocks = ['MCD', 'AAPL', 'SPY', 'MSFT', 'AMZN']\n",
    "\n",
    "end_date = datetime.now()# Getting the current data to have it as a end date\n",
    "start_date = datetime(end_date.year, end_date.month - 1, end_date.day) # Setting start date as month prior\n",
    "\n",
    "stock_data = {} # To store data for each stock\n",
    "\n",
    "for stock in stocks: # Using for loop for hourly data from last month\n",
    "    data = yf.download(stock, start=start_date, end=end_date, interval='1h') \n",
    "    stock_data[stock] = data\n",
    "\n",
    "combined_data = pd.concat(stock_data.values(), keys=stock_data.keys(), axis=1) # Combining all the stock data in a single dataframe\n",
    "\n",
    "combined_data.columns = [' '.join(col).strip() for col in combined_data.columns.values] # Flattening the data into single level\n",
    "print(combined_data.head())"
   ]
  },
  {
   "cell_type": "code",
   "execution_count": 70,
   "id": "b9ba4a0f-529f-40f2-8a33-71b1b12ab7b7",
   "metadata": {},
   "outputs": [
    {
     "name": "stdout",
     "output_type": "stream",
     "text": [
      "\n",
      "Descriptive statistics for combined data: \n",
      "\n",
      "       MCD Adj Close MCD  MCD Close MCD  MCD High MCD  MCD Low MCD  \\\n",
      "count         147.000000     147.000000    147.000000   147.000000   \n",
      "mean          295.424291     295.424291    296.161437   294.597711   \n",
      "std             4.016787       4.016787      4.070634     3.997165   \n",
      "min           285.160004     285.160004    286.429901   283.459991   \n",
      "25%           292.152496     292.152496    292.815002   291.555008   \n",
      "50%           296.059998     296.059998    296.600006   295.221405   \n",
      "75%           298.377502     298.377502    299.088058   297.170013   \n",
      "max           303.463104     303.463104    303.797089   301.500000   \n",
      "\n",
      "       MCD Open MCD  MCD Volume MCD  AAPL Adj Close AAPL  AAPL Close AAPL  \\\n",
      "count    147.000000    1.470000e+02           147.000000       147.000000   \n",
      "mean     295.341571    3.269172e+05           241.099791       241.099791   \n",
      "std        4.109632    2.197398e+05             8.316226         8.316226   \n",
      "min      285.000000    1.110070e+05           225.949997       225.949997   \n",
      "25%      292.182495    1.915810e+05           234.494995       234.494995   \n",
      "50%      296.059998    2.581910e+05           242.929993       242.929993   \n",
      "75%      298.190002    3.922770e+05           247.930000       247.930000   \n",
      "max      303.489990    1.449115e+06           253.710098       253.710098   \n",
      "\n",
      "       AAPL High AAPL  AAPL Low AAPL  ...  MSFT High MSFT  MSFT Low MSFT  \\\n",
      "count      147.000000     147.000000  ...      147.000000     147.000000   \n",
      "mean       241.657503     240.438145  ...      436.076006     433.605822   \n",
      "std          8.296459       8.298310  ...       14.101528      14.153923   \n",
      "min        227.009995     225.710297  ...      413.579895     410.288696   \n",
      "25%        235.044998     233.890053  ...      423.870010     420.119995   \n",
      "50%        243.360001     242.309998  ...      439.880005     437.151306   \n",
      "75%        248.254356     247.430000  ...      448.485001     445.949997   \n",
      "max        254.279999     253.470001  ...      456.164795     453.774994   \n",
      "\n",
      "       MSFT Open MSFT  MSFT Volume MSFT  AMZN Adj Close AMZN  AMZN Close AMZN  \\\n",
      "count      147.000000      1.470000e+02           147.000000       147.000000   \n",
      "mean       434.677522      1.997544e+06           216.681020       216.681020   \n",
      "std         14.190755      1.165394e+06            12.136843        12.136843   \n",
      "min        411.114990      7.275600e+05           197.070007       197.070007   \n",
      "25%        420.785004      1.179209e+06           205.412651       205.412651   \n",
      "50%        438.109985      1.573616e+06           219.089996       219.089996   \n",
      "75%        447.200012      2.436284e+06           228.334999       228.334999   \n",
      "max        454.609985      6.605292e+06           232.940002       232.940002   \n",
      "\n",
      "       AMZN High AMZN  AMZN Low AMZN  AMZN Open AMZN  AMZN Volume AMZN  \n",
      "count      147.000000     147.000000      147.000000      1.470000e+02  \n",
      "mean       217.465472     215.838985      216.606211      4.260547e+06  \n",
      "std         12.145712      12.152866       12.206657      2.630724e+06  \n",
      "min        197.489899     195.750000      197.220001      1.495956e+06  \n",
      "25%        206.309998     204.824997      205.294998      2.604286e+06  \n",
      "50%        219.839996     218.051300      218.460007      3.260796e+06  \n",
      "75%        229.141701     227.544998      228.387497      5.000823e+06  \n",
      "max        233.000000     232.199997      232.869995      1.553923e+07  \n",
      "\n",
      "[8 rows x 30 columns]\n"
     ]
    }
   ],
   "source": [
    "print(\"\\nDescriptive statistics for combined data: \\n\")\n",
    "print(combined_data.describe()) # Describing the combined data"
   ]
  },
  {
   "cell_type": "code",
   "execution_count": 89,
   "id": "1f16d0c4-b0cd-468e-a861-64d54bfc34ae",
   "metadata": {},
   "outputs": [
    {
     "name": "stdout",
     "output_type": "stream",
     "text": [
      "Total income:  1507500\n",
      "Total expense:  1182000\n"
     ]
    }
   ],
   "source": [
    "# Calculating total income and expenses: \n",
    "\n",
    "total_income = df[df['Type'] == 'Income']['Value'].sum() # Filering income from 'Type' and summing the corresponding value\n",
    "\n",
    "total_expenses = df[df['Type'] == 'Expense']['Value'].sum() # Filering expense from 'Type' and summing the corresponding value\n",
    "\n",
    "\n",
    "print('Total income: ', total_income)\n",
    "print('Total expense: ', total_expenses)"
   ]
  },
  {
   "cell_type": "code",
   "execution_count": 90,
   "id": "075fa98b-bd2b-4457-a054-5247ea224268",
   "metadata": {},
   "outputs": [
    {
     "name": "stdout",
     "output_type": "stream",
     "text": [
      "Total of net income is:  325500\n"
     ]
    }
   ],
   "source": [
    "# Calculating net income after expenses: \n",
    "main_total = total_income - total_expenses\n",
    "print('Total of net income is: ', main_total)"
   ]
  },
  {
   "cell_type": "code",
   "execution_count": 94,
   "id": "118bfe9e-af71-486d-bb39-ec8d71e40293",
   "metadata": {},
   "outputs": [
    {
     "data": {
      "image/png": "[encoded data removed]",
      "text/plain": [
       "<Figure size 600x400 with 1 Axes>"
      ]
     },
     "metadata": {},
     "output_type": "display_data"
    }
   ],
   "source": [
    "# Visualizing the above data in bar chart\n",
    "categories = ['Income', 'Expenses', 'Net Income']  # Categories for the bars\n",
    "values = [total_income, total_expenses, main_total]  # Total income, expenses, and main_total as values\n",
    "plt.figure(figsize=(6, 4))\n",
    "plt.bar(categories, values, color=['green', 'red', 'blue'])\n",
    "plt.title('Total Income and Total Expenses', fontsize=16)\n",
    "plt.xlabel('Category', fontsize=12)\n",
    "plt.ylabel('Amount', fontsize=12)\n",
    "for i in range(len(values)):\n",
    "    plt.text(i, values[i] + 50, str(values[i]), ha='center', fontsize=12)\n",
    "plt.tight_layout()\n",
    "plt.show()   "
   ]
  },
  {
   "cell_type": "code",
   "execution_count": 74,
   "id": "cb0f286b-e307-4738-8403-a63d2021c491",
   "metadata": {},
   "outputs": [
    {
     "data": {
      "text/plain": [
       "array(['Salary', 'Source 2', 'Mutual funds', 'Emergency Fund',\n",
       "       'Fixed Deposit', 'Liquid Cash', 'House Rent', 'Groceries & Food',\n",
       "       'Health', 'EMIs', 'Leisure', 'Shopping'], dtype=object)"
      ]
     },
     "execution_count": 74,
     "metadata": {},
     "output_type": "execute_result"
    }
   ],
   "source": [
    "df['Component'].unique() # Getting unique values from component column in the dataframe df"
   ]
  },
  {
   "cell_type": "code",
   "execution_count": 92,
   "id": "fc613cf5-209e-4ead-b2be-8a2b5d0f8e33",
   "metadata": {},
   "outputs": [
    {
     "name": "stdout",
     "output_type": "stream",
     "text": [
      "Component\n",
      "EMIs                 253000\n",
      "Emergency Fund        47000\n",
      "Fixed Deposit         44500\n",
      "Groceries & Food     286000\n",
      "Health                73000\n",
      "House Rent           478000\n",
      "Leisure               48500\n",
      "Liquid Cash            1000\n",
      "Mutual funds         233000\n",
      "Salary              1384500\n",
      "Shopping              43500\n",
      "Source 2             123000\n",
      "Name: Value, dtype: int64\n"
     ]
    }
   ],
   "source": [
    "# Grouping the component column and summing the corresponding value\n",
    "\n",
    "summed_values = df.groupby('Component')['Value'].sum() \n",
    "print(summed_values)"
   ]
  },
  {
   "cell_type": "code",
   "execution_count": 95,
   "id": "b6fb7a57-614b-46c5-9f9c-2b8f84bcbd1e",
   "metadata": {},
   "outputs": [
    {
     "name": "stdout",
     "output_type": "stream",
     "text": [
      "Source 2 growth if invested in SPY: $153981.36\n"
     ]
    },
    {
     "name": "stderr",
     "output_type": "stream",
     "text": [
      "/var/folders/yr/65__8pcx0cq8d23hh2blbnc40000gn/T/ipykernel_3299/2908961690.py:19: FutureWarning: Series.__getitem__ treating keys as positions is deprecated. In a future version, integer keys will always be treated as labels (consistent with DataFrame behavior). To access a value by position, use `ser.iloc[pos]`\n",
      "  spy_start_price = spy_data['Close'][0]  # Price 1 year ago\n",
      "/var/folders/yr/65__8pcx0cq8d23hh2blbnc40000gn/T/ipykernel_3299/2908961690.py:20: FutureWarning: Series.__getitem__ treating keys as positions is deprecated. In a future version, integer keys will always be treated as labels (consistent with DataFrame behavior). To access a value by position, use `ser.iloc[pos]`\n",
      "  spy_end_price = spy_data['Close'][-1]  # Latest price\n"
     ]
    }
   ],
   "source": [
    "import yfinance as yf\n",
    "import pandas as pd\n",
    "\n",
    "data = {\n",
    "    'component': ['Salary', 'Source 2', 'Mutual Funds', 'Emergency Fund', 'Fixed Deposit',\n",
    "                  'Liquid Cash', 'House Rent', 'Groceries & Food', 'Health', 'EMIs', 'Leisure', 'Shopping'],\n",
    "    'value': [1384500, 123000, 233000, 47000, 44500, 1000, 478000, 286000, 73000, 253000, 48500, 43500]\n",
    "}\n",
    "\n",
    "# Creating a dataframe with summed values\n",
    "df = pd.DataFrame(data)\n",
    "\n",
    "# Getting data from last year\n",
    "symbol = \"SPY\"\n",
    "ticker = yf.Ticker(symbol)\n",
    "spy_data = ticker.history(period=\"1y\")  \n",
    "\n",
    "# Getting percentage return of the S&P 500 (SPY) over the year\n",
    "spy_start_price = spy_data['Close'][0]  # Price 1 year ago\n",
    "spy_end_price = spy_data['Close'][-1]  # Latest price\n",
    "spy_return = (spy_end_price - spy_start_price) / spy_start_price * 100  # Percentage return\n",
    "\n",
    "\n",
    "source2_value = df[df['component'] == 'Source 2']['value'].values[0]  # Getting the source2 value from df\n",
    "\n",
    "# Calculating the growth of Source2 if it were invested in SPY (1-year return)\n",
    "source2_growth = source2_value * (1 + spy_return / 100)  # Simulated salary growth\n",
    "\n",
    "\n",
    "print(f\"Source 2 growth if invested in SPY: ${source2_growth:.2f}\")"
   ]
  },
  {
   "cell_type": "code",
   "execution_count": 79,
   "id": "1a8aac80-9774-4b9e-867c-d2d4a2dfbbf6",
   "metadata": {},
   "outputs": [
    {
     "data": {
      "image/png": "[encoded data removed]",
      "text/plain": [
       "<Figure size 600x600 with 1 Axes>"
      ]
     },
     "metadata": {},
     "output_type": "display_data"
    }
   ],
   "source": [
    "import matplotlib.pyplot as plt\n",
    "\n",
    "# Plot the comparison\n",
    "plt.figure(figsize=(6, 6))\n",
    "\n",
    "# Plot Salary vs SPY returns\n",
    "plt.bar(['Source2', 'Source2 (Invested in SPY)'], [source2_value, source2_growth], color=['blue', 'green'])\n",
    "\n",
    "plt.title('Comparison of Source2 vs. Source2 Invested in S&P 500 (SPY)', fontsize=16)\n",
    "plt.ylabel('Amount (in $)', fontsize=12)\n",
    "plt.show()\n"
   ]
  },
  {
   "cell_type": "code",
   "execution_count": 43,
   "id": "fced99dd-f434-43d6-9843-b43b315bbefe",
   "metadata": {},
   "outputs": [
    {
     "name": "stdout",
     "output_type": "stream",
     "text": [
      "Requirement already satisfied: polygon-api-client in /opt/anaconda3/lib/python3.11/site-packages (1.14.2)\n",
      "Requirement already satisfied: certifi<2025.0.0,>=2022.5.18 in /opt/anaconda3/lib/python3.11/site-packages (from polygon-api-client) (2024.2.2)\n",
      "Requirement already satisfied: urllib3<3.0.0,>=1.26.9 in /opt/anaconda3/lib/python3.11/site-packages (from polygon-api-client) (2.0.7)\n",
      "Requirement already satisfied: websockets<13.0,>=10.3 in /opt/anaconda3/lib/python3.11/site-packages (from polygon-api-client) (12.0)\n",
      "Note: you may need to restart the kernel to use updated packages.\n"
     ]
    }
   ],
   "source": [
    "pip install polygon-api-client\n"
   ]
  },
  {
   "cell_type": "code",
   "execution_count": 61,
   "id": "3c201081-ec26-433c-bc44-35c519d7f7e3",
   "metadata": {},
   "outputs": [
    {
     "ename": "BadResponse",
     "evalue": "{\"status\":\"NOT_AUTHORIZED\",\"request_id\":\"da6e80a11ac0c1f619f861ea32092c5c\",\"message\":\"Your plan doesn't include this data timeframe. Please upgrade your plan at https://polygon.io/pricing\"}",
     "output_type": "error",
     "traceback": [
      "\u001b[0;31m---------------------------------------------------------------------------\u001b[0m",
      "\u001b[0;31mBadResponse\u001b[0m                               Traceback (most recent call last)",
      "Cell \u001b[0;32mIn[61], line 11\u001b[0m\n\u001b[1;32m      5\u001b[0m \u001b[38;5;28;01mfrom\u001b[39;00m \u001b[38;5;21;01murllib3\u001b[39;00m \u001b[38;5;28;01mimport\u001b[39;00m HTTPResponse\n\u001b[1;32m      7\u001b[0m client \u001b[38;5;241m=\u001b[39m RESTClient(config\u001b[38;5;241m.\u001b[39mAPI_KEY)\n\u001b[1;32m      9\u001b[0m aggs \u001b[38;5;241m=\u001b[39m cast(\n\u001b[1;32m     10\u001b[0m     HTTPResponse,\n\u001b[0;32m---> 11\u001b[0m     client\u001b[38;5;241m.\u001b[39mget_aggs(\n\u001b[1;32m     12\u001b[0m         \u001b[38;5;124m'\u001b[39m\u001b[38;5;124mSPY\u001b[39m\u001b[38;5;124m'\u001b[39m,\n\u001b[1;32m     13\u001b[0m         \u001b[38;5;241m1\u001b[39m,\n\u001b[1;32m     14\u001b[0m         \u001b[38;5;124m'\u001b[39m\u001b[38;5;124mday\u001b[39m\u001b[38;5;124m'\u001b[39m,\n\u001b[1;32m     15\u001b[0m         \u001b[38;5;124m'\u001b[39m\u001b[38;5;124m2022-05-20\u001b[39m\u001b[38;5;124m'\u001b[39m,\n\u001b[1;32m     16\u001b[0m         \u001b[38;5;124m'\u001b[39m\u001b[38;5;124m2022-11-11\u001b[39m\u001b[38;5;124m'\u001b[39m,\n\u001b[1;32m     17\u001b[0m         raw\u001b[38;5;241m=\u001b[39m\u001b[38;5;28;01mTrue\u001b[39;00m\n\u001b[1;32m     18\u001b[0m         ),\n\u001b[1;32m     19\u001b[0m     \n\u001b[1;32m     20\u001b[0m     )\n\u001b[1;32m     22\u001b[0m data \u001b[38;5;241m=\u001b[39m json\u001b[38;5;241m.\u001b[39mloads(aggs\u001b[38;5;241m.\u001b[39mdata)\n\u001b[1;32m     24\u001b[0m \u001b[38;5;28;01mfor\u001b[39;00m item \u001b[38;5;129;01min\u001b[39;00m data:\n",
      "File \u001b[0;32m/opt/anaconda3/lib/python3.11/site-packages/polygon/rest/aggs.py:93\u001b[0m, in \u001b[0;36mAggsClient.get_aggs\u001b[0;34m(self, ticker, multiplier, timespan, from_, to, adjusted, sort, limit, params, raw, options)\u001b[0m\n\u001b[1;32m     90\u001b[0m     to \u001b[38;5;241m=\u001b[39m \u001b[38;5;28mint\u001b[39m(to\u001b[38;5;241m.\u001b[39mtimestamp() \u001b[38;5;241m*\u001b[39m \u001b[38;5;28mself\u001b[39m\u001b[38;5;241m.\u001b[39mtime_mult(\u001b[38;5;124m\"\u001b[39m\u001b[38;5;124mmillis\u001b[39m\u001b[38;5;124m\"\u001b[39m))\n\u001b[1;32m     91\u001b[0m url \u001b[38;5;241m=\u001b[39m \u001b[38;5;124mf\u001b[39m\u001b[38;5;124m\"\u001b[39m\u001b[38;5;124m/v2/aggs/ticker/\u001b[39m\u001b[38;5;132;01m{\u001b[39;00mticker\u001b[38;5;132;01m}\u001b[39;00m\u001b[38;5;124m/range/\u001b[39m\u001b[38;5;132;01m{\u001b[39;00mmultiplier\u001b[38;5;132;01m}\u001b[39;00m\u001b[38;5;124m/\u001b[39m\u001b[38;5;132;01m{\u001b[39;00mtimespan\u001b[38;5;132;01m}\u001b[39;00m\u001b[38;5;124m/\u001b[39m\u001b[38;5;132;01m{\u001b[39;00mfrom_\u001b[38;5;132;01m}\u001b[39;00m\u001b[38;5;124m/\u001b[39m\u001b[38;5;132;01m{\u001b[39;00mto\u001b[38;5;132;01m}\u001b[39;00m\u001b[38;5;124m\"\u001b[39m\n\u001b[0;32m---> 93\u001b[0m \u001b[38;5;28;01mreturn\u001b[39;00m \u001b[38;5;28mself\u001b[39m\u001b[38;5;241m.\u001b[39m_get(\n\u001b[1;32m     94\u001b[0m     path\u001b[38;5;241m=\u001b[39murl,\n\u001b[1;32m     95\u001b[0m     params\u001b[38;5;241m=\u001b[39m\u001b[38;5;28mself\u001b[39m\u001b[38;5;241m.\u001b[39m_get_params(\u001b[38;5;28mself\u001b[39m\u001b[38;5;241m.\u001b[39mget_aggs, \u001b[38;5;28mlocals\u001b[39m()),\n\u001b[1;32m     96\u001b[0m     result_key\u001b[38;5;241m=\u001b[39m\u001b[38;5;124m\"\u001b[39m\u001b[38;5;124mresults\u001b[39m\u001b[38;5;124m\"\u001b[39m,\n\u001b[1;32m     97\u001b[0m     deserializer\u001b[38;5;241m=\u001b[39mAgg\u001b[38;5;241m.\u001b[39mfrom_dict,\n\u001b[1;32m     98\u001b[0m     raw\u001b[38;5;241m=\u001b[39mraw,\n\u001b[1;32m     99\u001b[0m     options\u001b[38;5;241m=\u001b[39moptions,\n\u001b[1;32m    100\u001b[0m )\n",
      "File \u001b[0;32m/opt/anaconda3/lib/python3.11/site-packages/polygon/rest/base.py:129\u001b[0m, in \u001b[0;36mBaseClient._get\u001b[0;34m(self, path, params, result_key, deserializer, raw, options)\u001b[0m\n\u001b[1;32m    126\u001b[0m     \u001b[38;5;28mprint\u001b[39m(\u001b[38;5;124mf\u001b[39m\u001b[38;5;124m\"\u001b[39m\u001b[38;5;124mResponse Headers: \u001b[39m\u001b[38;5;132;01m{\u001b[39;00mresp_headers_dict\u001b[38;5;132;01m}\u001b[39;00m\u001b[38;5;124m\"\u001b[39m)\n\u001b[1;32m    128\u001b[0m \u001b[38;5;28;01mif\u001b[39;00m resp\u001b[38;5;241m.\u001b[39mstatus \u001b[38;5;241m!=\u001b[39m \u001b[38;5;241m200\u001b[39m:\n\u001b[0;32m--> 129\u001b[0m     \u001b[38;5;28;01mraise\u001b[39;00m BadResponse(resp\u001b[38;5;241m.\u001b[39mdata\u001b[38;5;241m.\u001b[39mdecode(\u001b[38;5;124m\"\u001b[39m\u001b[38;5;124mutf-8\u001b[39m\u001b[38;5;124m\"\u001b[39m))\n\u001b[1;32m    131\u001b[0m \u001b[38;5;28;01mif\u001b[39;00m raw:\n\u001b[1;32m    132\u001b[0m     \u001b[38;5;28;01mreturn\u001b[39;00m resp\n",
      "\u001b[0;31mBadResponse\u001b[0m: {\"status\":\"NOT_AUTHORIZED\",\"request_id\":\"da6e80a11ac0c1f619f861ea32092c5c\",\"message\":\"Your plan doesn't include this data timeframe. Please upgrade your plan at https://polygon.io/pricing\"}"
     ]
    }
   ],
   "source": [
    "# Tried getting the historical data from polygon API but it needs a special subscription to access that data\n",
    "\n",
    "from polygon import RESTClient\n",
    "import config\n",
    "import json\n",
    "from typing import cast\n",
    "from urllib3 import HTTPResponse\n",
    "\n",
    "client = RESTClient(config.API_KEY)\n",
    "\n",
    "aggs = cast(\n",
    "    HTTPResponse,\n",
    "    client.get_aggs(\n",
    "        'SPY',\n",
    "        1,\n",
    "        'day',\n",
    "        '2022-05-20',\n",
    "        '2022-11-11',\n",
    "        raw=True\n",
    "        ),\n",
    "    \n",
    "    )\n",
    "\n",
    "data = json.loads(aggs.data)\n",
    "\n",
    "for item in data:\n",
    "    if item == 'results':\n",
    "        rawData = data[item]\n",
    "\n",
    "closeList = []\n",
    "\n",
    "for bar in rawData:\n",
    "    for category in bar:\n",
    "        if category == 'c':\n",
    "            closeList.append(bar[category])\n",
    "\n",
    "print(closeList)"
   ]
  },
  {
   "cell_type": "code",
   "execution_count": 101,
   "id": "ef3e7acf-f645-4d43-bf56-cfd2c2226f83",
   "metadata": {},
   "outputs": [
    {
     "name": "stdout",
     "output_type": "stream",
     "text": [
      "SPY Start Price (1 year ago): $470.40\n",
      "SPY End Price (latest): $588.42\n",
      "1-Year Return on SPY: 25.09%\n",
      "Investment of $10,000 in SPY one year ago is now worth: $12508.82\n"
     ]
    },
    {
     "name": "stderr",
     "output_type": "stream",
     "text": [
      "/var/folders/yr/65__8pcx0cq8d23hh2blbnc40000gn/T/ipykernel_3299/3483298763.py:6: FutureWarning: Series.__getitem__ treating keys as positions is deprecated. In a future version, integer keys will always be treated as labels (consistent with DataFrame behavior). To access a value by position, use `ser.iloc[pos]`\n",
      "  spy_start_price = spy_data['Close'][0]  # Closing price 1 year ago\n",
      "/var/folders/yr/65__8pcx0cq8d23hh2blbnc40000gn/T/ipykernel_3299/3483298763.py:7: FutureWarning: Series.__getitem__ treating keys as positions is deprecated. In a future version, integer keys will always be treated as labels (consistent with DataFrame behavior). To access a value by position, use `ser.iloc[pos]`\n",
      "  spy_end_price = spy_data['Close'][-1]  # Latest closing price\n"
     ]
    }
   ],
   "source": [
    "# Showing how beneficial it is to invest in SPY\n",
    "ticker = \"SPY\" \n",
    "\n",
    "spy_data = yf.Ticker(ticker).history(period=\"1y\")  # Fetch data for the past 1 year\n",
    "\n",
    "# Calculate the percentage return of SPY over the past year\n",
    "spy_start_price = spy_data['Close'][0]  # Closing price 1 year ago\n",
    "spy_end_price = spy_data['Close'][-1]  # Latest closing price\n",
    "spy_return = (spy_end_price - spy_start_price) / spy_start_price * 100  # Percentage return\n",
    "\n",
    "initial_investment = 10000 # Assuming 10000 investment a year ago\n",
    "\n",
    "\n",
    "investment_value = initial_investment * (1 + spy_return / 100) #Invested value today\n",
    "\n",
    "print(f\"SPY Start Price (1 year ago): ${spy_start_price:.2f}\")\n",
    "print(f\"SPY End Price (latest): ${spy_end_price:.2f}\")\n",
    "print(f\"1-Year Return on SPY: {spy_return:.2f}%\")\n",
    "print(f\"Investment of $10,000 in SPY one year ago is now worth: ${investment_value:.2f}\")\n"
   ]
  },
  {
   "cell_type": "code",
   "execution_count": null,
   "id": "166356db-73af-4fc6-8122-03e5e2e65996",
   "metadata": {},
   "outputs": [],
   "source": []
  }
 ],
 "metadata": {
  "kernelspec": {
   "display_name": "Python 3 (ipykernel)",
   "language": "python",
   "name": "python3"
  },
  "language_info": {
   "codemirror_mode": {
    "name": "ipython",
    "version": 3
   },
   "file_extension": ".py",
   "mimetype": "text/x-python",
   "name": "python",
   "nbconvert_exporter": "python",
   "pygments_lexer": "ipython3",
   "version": "3.11.7"
  }
 },
 "nbformat": 4,
 "nbformat_minor": 5
}
