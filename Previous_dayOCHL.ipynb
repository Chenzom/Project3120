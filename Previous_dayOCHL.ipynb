{
 "cells": [
  {
   "cell_type": "code",
   "execution_count": 3,
   "id": "884c8d4d-5286-4049-84c4-e3a737aec0aa",
   "metadata": {},
   "outputs": [
    {
     "name": "stdout",
     "output_type": "stream",
     "text": [
      "Success!\n",
      "\n",
      "Previous Day's Data for AAPL (Apple):\n",
      "Volume: 54566547.0\n",
      "Open Price: 252.16\n",
      "Close Price: 248.05\n",
      "High Price: 254.28\n",
      "Low Price: 247.74\n"
     ]
    }
   ],
   "source": [
    "import requests  # Importing the requests module to make HTTP requests\n",
    "from config import get_stock_url  # Import the function to get the stock URL\n",
    "\n",
    "# Specify the stock ticker you want (e.g., AAPL for Apple)\n",
    "ticker = \"AAPL\"\n",
    "\n",
    "# Use the function from config.py to get the full URL\n",
    "url = get_stock_url(ticker)  # Function call\n",
    "\n",
    "# Send a GET request to the API using the requests library\n",
    "response = requests.get(url)\n",
    "\n",
    "# Check if the request was successful (HTTP status code 200 means OK)\n",
    "if response.status_code == 200:\n",
    "    print(\"Success!\")  # Print a success message if the request is successful\n",
    "    data = response.json()  # Parse the response as JSON data\n",
    "    \n",
    "    # Extract the data for previous close\n",
    "    if 'results' in data and len(data['results']) > 0:\n",
    "        prev_close_data = data['results'][0]\n",
    "\n",
    "        # Print each field vertically\n",
    "        print(\"\\nPrevious Day's Data for AAPL (Apple):\")\n",
    "        print(f\"Volume: {prev_close_data['v']}\")\n",
    "        print(f\"Open Price: {prev_close_data['o']}\")\n",
    "        print(f\"Close Price: {prev_close_data['c']}\")\n",
    "        print(f\"High Price: {prev_close_data['h']}\")\n",
    "        print(f\"Low Price: {prev_close_data['l']}\")\n",
    "    else:\n",
    "        print(\"No results found for the provided stock ticker.\")\n",
    "else:\n",
    "    # If the request failed, print the error message with the status code\n",
    "    print(f\"Error: {response.status_code}\")\n"
   ]
  },
  {
   "cell_type": "code",
   "execution_count": 4,
   "id": "2d83ac4b-5084-4fc8-83db-ec54fb0786ba",
   "metadata": {},
   "outputs": [
    {
     "name": "stdout",
     "output_type": "stream",
     "text": [
      "Success!\n",
      "\n",
      "Previous Day's Data for SPY (S&P 500 ETF):\n",
      "Volume: 103804119.0\n",
      "Open Price: 603.98\n",
      "Close Price: 586.28\n",
      "High Price: 606.405\n",
      "Low Price: 585.89\n"
     ]
    }
   ],
   "source": [
    "import requests  \n",
    "from config import get_stock_url  \n",
    "\n",
    "ticker = \"SPY\"\n",
    "\n",
    "url = get_stock_url(ticker)  \n",
    "\n",
    "response = requests.get(url)\n",
    "\n",
    "\n",
    "if response.status_code == 200:\n",
    "    print(\"Success!\")  \n",
    "    data = response.json() \n",
    "    \n",
    "   \n",
    "    if 'results' in data and len(data['results']) > 0:\n",
    "        prev_close_data = data['results'][0]\n",
    "\n",
    "        print(\"\\nPrevious Day's Data for SPY (S&P 500 ETF):\")\n",
    "        print(f\"Volume: {prev_close_data['v']}\")\n",
    "        print(f\"Open Price: {prev_close_data['o']}\")\n",
    "        print(f\"Close Price: {prev_close_data['c']}\")\n",
    "        print(f\"High Price: {prev_close_data['h']}\")\n",
    "        print(f\"Low Price: {prev_close_data['l']}\")\n",
    "    else:\n",
    "        print(\"No results found for the provided stock ticker.\")\n",
    "else:\n",
    "    print(f\"Error: {response.status_code}\")\n"
   ]
  },
  {
   "cell_type": "code",
   "execution_count": null,
   "id": "15ef3c6c-141f-41fe-8919-d1f4bfc9f391",
   "metadata": {},
   "outputs": [],
   "source": []
  }
 ],
 "metadata": {
  "kernelspec": {
   "display_name": "Python 3 (ipykernel)",
   "language": "python",
   "name": "python3"
  },
  "language_info": {
   "codemirror_mode": {
    "name": "ipython",
    "version": 3
   },
   "file_extension": ".py",
   "mimetype": "text/x-python",
   "name": "python",
   "nbconvert_exporter": "python",
   "pygments_lexer": "ipython3",
   "version": "3.11.7"
  }
 },
 "nbformat": 4,
 "nbformat_minor": 5
}
